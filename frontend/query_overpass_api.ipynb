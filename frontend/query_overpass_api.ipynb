{
 "metadata": {
  "language_info": {
   "codemirror_mode": {
    "name": "ipython",
    "version": 3
   },
   "file_extension": ".py",
   "mimetype": "text/x-python",
   "name": "python",
   "nbconvert_exporter": "python",
   "pygments_lexer": "ipython3",
   "version": "3.8.6-final"
  },
  "orig_nbformat": 2,
  "kernelspec": {
   "name": "python3",
   "display_name": "Python 3.8.6 64-bit",
   "metadata": {
    "interpreter": {
     "hash": "31f2aee4e71d21fbe5cf8b01ff0e069b9275f58929596ceb00d14d90e3e16cd6"
    }
   }
  }
 },
 "nbformat": 4,
 "nbformat_minor": 2,
 "cells": [
  {
   "cell_type": "code",
   "execution_count": 1,
   "metadata": {},
   "outputs": [],
   "source": [
    "import requests\n",
    "import json"
   ]
  },
  {
   "cell_type": "code",
   "execution_count": null,
   "metadata": {},
   "outputs": [],
   "source": [
    "# example call 1\n",
    "overpass_url = \"http://overpass-api.de/api/interpreter\"\n",
    "overpass_query = \"\"\"\n",
    "[out:json];\n",
    "area[\"ISO3166-1\"=\"DE\"][admin_level=2];\n",
    "(node[\"amenity\"=\"biergarten\"](area);\n",
    " way[\"amenity\"=\"biergarten\"](area);\n",
    " rel[\"amenity\"=\"biergarten\"](area);\n",
    ");\n",
    "out center;\n",
    "\"\"\"\n",
    "response = requests.get(overpass_url, \n",
    "                        params={'data': overpass_query})\n",
    "data = response.json()"
   ]
  },
  {
   "cell_type": "code",
   "execution_count": null,
   "metadata": {},
   "outputs": [],
   "source": [
    "# example call 2\n",
    "overpass_url = \"http://overpass-api.de/api/interpreter\"\n",
    "overpass_query = \"\"\"\n",
    "[out:json];\n",
    "area[\"ISO3166-1\"=\"DE\"][admin_level=2];\n",
    "( way[\"highway\"=\"motorway\"](area);\n",
    ");\n",
    "out center;\n",
    "\"\"\"\n",
    "response = requests.get(overpass_url, \n",
    "                        params={'data': overpass_query})\n",
    "data = response.json()"
   ]
  },
  {
   "cell_type": "code",
   "execution_count": 3,
   "metadata": {},
   "outputs": [],
   "source": [
    "def convert_to_geo_dict(data):\n",
    "    \"\"\"TODO\"\"\"\n",
    "    return { \"type\": \"FeatureCollection\",\n",
    "                        \"features\": [ \n",
    "                                        {\"type\": \"Feature\",\n",
    "                                         \"geometry\": { \"type\": \"LineString\",\n",
    "                                                       \"coordinates\": [ [point['lon'],\n",
    "                                                                        point['lat']] for point in feature[\"geometry\"]]},\n",
    "                                         \"properties\": { key: value \n",
    "                                                         for key, value in feature.items()\n",
    "                                                         if key != \"geometry\" }\n",
    "                                         } \n",
    "                                     for feature in data[\"elements\"]\n",
    "                                    ]\n",
    "                       }"
   ]
  },
  {
   "cell_type": "code",
   "execution_count": 4,
   "metadata": {},
   "outputs": [],
   "source": [
    "def query_overpass_api(query):\n",
    "    \"\"\"TODO\"\"\"\n",
    "    overpass_url = \"http://overpass-api.de/api/interpreter\"\n",
    "    response = requests.get(overpass_url, \n",
    "                        params={'data': overpass_query})\n",
    "    data = response.json()\n",
    "    return data"
   ]
  },
  {
   "cell_type": "code",
   "execution_count": 7,
   "metadata": {},
   "outputs": [],
   "source": [
    "overpass_query = \"\"\"\n",
    "[out:json];\n",
    "area[name=\"Nordrhein-Westfalen\"];\n",
    "way[\"highway\"=\"motorway\"](area);\n",
    "out geom;\n",
    "\"\"\"\n",
    "data = query_overpass_api(overpass_query)"
   ]
  },
  {
   "cell_type": "code",
   "execution_count": null,
   "metadata": {},
   "outputs": [],
   "source": [
    "overpass_query = \"\"\"\n",
    "[out:json][timeout:25];\n",
    "area[name=\"Berlin\"];\n",
    "(\n",
    "  // query part for: “tourism=attraction”\n",
    "  node[\"tourism\"=\"attraction\"](area);\n",
    "  way[\"tourism\"=\"attraction\"](area);\n",
    "  relation[\"tourism\"=\"attraction\"](area);\n",
    ");\n",
    "// print results\n",
    "out body;\n",
    ">;\n",
    "out skel qt;\n",
    "\"\"\"\n",
    "tourism_attraction_berlin = query_overpass_api(overpass_query)\n",
    "# TODO: markers for the nodes and not linestrings\n",
    "geo_json_tourism = convert_to_geo_dict(tourism_attraction_berlin)"
   ]
  },
  {
   "cell_type": "code",
   "execution_count": 8,
   "metadata": {},
   "outputs": [],
   "source": [
    "# convert overpass api response to geojson\n",
    "geo_json_data = convert_to_geo_dict(data)"
   ]
  },
  {
   "cell_type": "code",
   "execution_count": 9,
   "metadata": {},
   "outputs": [],
   "source": [
    "# store \n",
    "with open('motorways_nrw_geo.json', 'w') as outfile:\n",
    "    json.dump(geo_json_data, outfile, indent=4, ensure_ascii=False)"
   ]
  },
  {
   "cell_type": "code",
   "execution_count": null,
   "metadata": {},
   "outputs": [],
   "source": []
  }
 ]
}